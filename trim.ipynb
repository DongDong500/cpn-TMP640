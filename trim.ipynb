{
 "cells": [
  {
   "cell_type": "code",
   "execution_count": 1,
   "metadata": {},
   "outputs": [],
   "source": [
    "import os\n",
    "import numpy as np\n",
    "import cv2 as cv\n",
    "from PIL import Image"
   ]
  },
  {
   "cell_type": "code",
   "execution_count": 5,
   "metadata": {},
   "outputs": [],
   "source": [
    "pth = ['/home/dongik/datasets/median-forearm/HM/Masks/',\n",
    "        '/home/dongik/datasets/median-forearm/SN/Masks/',\n",
    "        '/home/dongik/datasets/median-wrist/HM/Masks/',\n",
    "        '/home/dongik/datasets/median-wrist/SN/Masks/']\n",
    "dst = ['/home/dongik/datasets/median-forearm-d/HM/Masks/',\n",
    "        '/home/dongik/datasets/median-forearm-d/SN/Masks/',\n",
    "        '/home/dongik/datasets/median-wrist-d/HM/Masks/',\n",
    "        '/home/dongik/datasets/median-wrist-d/SN/Masks/']\n",
    "\n",
    "for i in range(len(pth)):\n",
    "    prefix = pth[i]\n",
    "    for fname in os.listdir(pth[i]):\n",
    "        mask = Image.open(os.path.join(prefix, fname)).convert('L')\n",
    "        mask = np.array(mask)\n",
    "\n",
    "        kernel = cv.getStructuringElement(cv.MORPH_ELLIPSE, (7, 7)).transpose()\n",
    "        dilation = cv.dilate(mask, kernel, iterations=1)\n",
    "        dilation[np.where(dilation < 255)] = 0\n",
    "\n",
    "        if not os.path.exists(os.path.join(dst[i])):\n",
    "            os.makedirs(os.path.join(dst[i]))\n",
    "\n",
    "        Image.fromarray(dilation).save(os.path.join(dst[i], fname.split('.')[0] + '.bmp'))"
   ]
  },
  {
   "cell_type": "code",
   "execution_count": null,
   "metadata": {},
   "outputs": [],
   "source": []
  }
 ],
 "metadata": {
  "kernelspec": {
   "display_name": "Python 3.8.13 ('CPNKDv5': conda)",
   "language": "python",
   "name": "python3"
  },
  "language_info": {
   "codemirror_mode": {
    "name": "ipython",
    "version": 3
   },
   "file_extension": ".py",
   "mimetype": "text/x-python",
   "name": "python",
   "nbconvert_exporter": "python",
   "pygments_lexer": "ipython3",
   "version": "3.8.13"
  },
  "orig_nbformat": 4,
  "vscode": {
   "interpreter": {
    "hash": "c0812c76dadd0be11b5c2abec8e23f22451ffb3fa8606d420ca07b107c675cf0"
   }
  }
 },
 "nbformat": 4,
 "nbformat_minor": 2
}
